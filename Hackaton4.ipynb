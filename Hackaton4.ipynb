version https://git-lfs.github.com/spec/v1
oid sha256:951bb351fd638f6f381399aad6c6da328222952571e64412a5831fea2b880489
size 50365109
