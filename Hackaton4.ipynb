version https://git-lfs.github.com/spec/v1
oid sha256:7c5ec79e02ddc018ea973b2bd27dd72c823903ecab7163be8bd0a325ff175a8a
size 30439095
