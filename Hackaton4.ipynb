version https://git-lfs.github.com/spec/v1
oid sha256:07bf22e715e7f7c7e4219b12b7a0ecb328987e9ea690294470b4ef4ac8f6c4c2
size 88538369
