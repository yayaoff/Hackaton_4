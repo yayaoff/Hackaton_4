version https://git-lfs.github.com/spec/v1
oid sha256:44c0ba021dc758fdc75c012d5c125e94a18673d80ffde570f1b349e7cf171e5a
size 30501414
