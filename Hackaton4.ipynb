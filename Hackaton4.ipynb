version https://git-lfs.github.com/spec/v1
oid sha256:2b7411b44fd6901edbfa009dc52960352d78f60583bf2a5605ad4e48e2364008
size 86817361
