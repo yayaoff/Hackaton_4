version https://git-lfs.github.com/spec/v1
oid sha256:6901a3ce3790111bcb25229859257d3ffe9476e81503fb604dcfc1275857b8d8
size 30557458
