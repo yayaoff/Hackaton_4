version https://git-lfs.github.com/spec/v1
oid sha256:edeb66959fe16b70d5431a1af9cf2c55f48cb0579dd95811183ecc81176bd183
size 30545649
