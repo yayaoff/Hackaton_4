version https://git-lfs.github.com/spec/v1
oid sha256:f6f2457a14381c92c9d35347ebf3120121788464cd6eef62167d5f9ba804b6df
size 30457119
