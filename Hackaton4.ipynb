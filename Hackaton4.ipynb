version https://git-lfs.github.com/spec/v1
oid sha256:8a3a7a9895f879e5c3d806e2c08a7d3291475fcf395c22810a9abfe0180783ca
size 50365034
