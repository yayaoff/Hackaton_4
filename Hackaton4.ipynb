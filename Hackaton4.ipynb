version https://git-lfs.github.com/spec/v1
oid sha256:eba333828c638ba65e766ff15d0ce110e4a9f71a54a059855e4bbef4565bca3b
size 30484118
